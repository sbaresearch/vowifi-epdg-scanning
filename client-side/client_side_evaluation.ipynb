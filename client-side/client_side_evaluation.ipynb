{
 "cells": [
  {
   "cell_type": "markdown",
   "id": "6934687f",
   "metadata": {},
   "source": [
    "## Client Side VoWiFi Evaluation\n",
    "\n",
    "The files that have been used to conduct our client side analysis are included as a zip file\n",
    "`dumps.zip` (use git lfs to clone this repository)\n",
    "\n",
    "The extraction step may take a few minutes!"
   ]
  },
  {
   "cell_type": "code",
   "execution_count": null,
   "id": "7ecddb89",
   "metadata": {},
   "outputs": [],
   "source": [
    "# General Settings\n",
    "\n",
    "# Will extract the zipfile to the current folder inside the repository\n",
    "DUMPS_FOLDER=\"./\"\n",
    "\n",
    "# Enables autoreload extension to reload files on imports\n",
    "#%load_ext autoreload\n",
    "#%autoreload 2"
   ]
  },
  {
   "cell_type": "code",
   "execution_count": null,
   "id": "cb439063",
   "metadata": {},
   "outputs": [],
   "source": [
    "# MAY TAKE A FEW MINUTES (many small files ~2mins)\n",
    "# Extract the files included in the zip file to dumps\n",
    "import zipfile\n",
    "import os\n",
    "\n",
    "# Define the path to the zip file\n",
    "zip_file_path = 'dumps.zip'\n",
    "\n",
    "# Create a ZipFile object\n",
    "with zipfile.ZipFile(zip_file_path, 'r') as zip_ref:\n",
    "    # Extract all the contents of the zip file to the specified directory\n",
    "    zip_ref.extractall(DUMPS_FOLDER)\n",
    "\n",
    "print(\"Unzipping complete!\")"
   ]
  },
  {
   "cell_type": "code",
   "execution_count": null,
   "id": "20266fdd",
   "metadata": {},
   "outputs": [],
   "source": [
    "# FOLDER AND FILE STRUCTURE(included in dumps.zip)\n",
    "\n",
    "## APPLE\n",
    "#Folders\n",
    "APPLE_FOLDER=DUMPS_FOLDER+\"dumps/20240201_Apple/\"\n",
    "APPLE_FOLDER_DATA=DUMPS_FOLDER+\"/dumps/20240201_Apple/data/\"\n",
    "APPLE_EVALUATION_FOLDER=\"evaluation/APPLE/\"\n",
    "\n",
    "#Files\n",
    "APPLE_IPCC_URLS=APPLE_FOLDER_DATA+\"ipcc_urls.txt\"\n",
    "APPLE_IPCC_CARRIERS_REPRODUCE=APPLE_FOLDER+\"/ipcc_carriers_reproduce.txt\"\n",
    "APPLE_IPPC_EVALUATION_RESULTS_REPRODUCE=APPLE_EVALUATION_FOLDER+\"apple_ike_configuration_parameters_reproduce.json\"\n",
    "APPLE_IPPC_UPDATE_TIMES_REPRODUCE=APPLE_EVALUATION_FOLDER+\"config_dirs_update_time_reproduce.json\"\n",
    "APPLE_IPCC_FILES=APPLE_FOLDER+\"data/\"\n",
    "\n",
    "## SAMSUNG\n",
    "#Folders\n",
    "SAMSUNG_FOLDER=DUMPS_FOLDER+\"dumps/Samsung_Clientside/\"\n",
    "SAMSUNG_EVALUATION_FOLDER=\"evaluation/SAMSUNG/\"\n",
    "#Files\n",
    "SAMSUNG_APN_FILE=SAMSUNG_FOLDER+\"epdg_apns_conf.xml\"\n",
    "SAMSUNG_APN_EVALUATION_RESULTS_REPRODUCE=SAMSUNG_EVALUATION_FOLDER+\"samsung_ikev2_conf_reproduce.json\"\n",
    "\n",
    "## XIAOMI\n",
    "#Folders\n",
    "XIAOMI_FOLDER=DUMPS_FOLDER+\"dumps/20230822_Xiaomi_13_Pro_0A_SM8550-AB/\"\n",
    "MBN_EVALUATION_FOLDER=\"evaluation/MBN/\"\n",
    "\n",
    "#Files\n",
    "XAOMI_EVALUATION_RESULTS_REPRODUCE=MBN_EVALUATION_FOLDER+\"mbn_xiaomi_configuration_parameters_reproduce.json\"\n",
    "\n",
    "\n",
    "## OPPO\n",
    "#Folders\n",
    "OPPO_FOLDER=DUMPS_FOLDER+\"dumps/20231206_Oppo_Find_X6_Pro_5G_0A_SM8550-AB/\"\n",
    "\n",
    "#Files\n",
    "OPPO_EVALUATION_RESULTS_REPRODUCE=MBN_EVALUATION_FOLDER+\"mbn_oppo_ikev2_configuration_parameters_reproduce.json\"\n",
    "\n"
   ]
  },
  {
   "cell_type": "markdown",
   "id": "ec899832",
   "metadata": {},
   "source": [
    "### Apple\n",
    "\n",
    "Apple uses iOS Carrier Profiles (IPCC) to configure iPhones for mobile networks. We relied on ipcc-downloader (https://github.com/mrlnc/ipcc-downloader) to extract the IPCC bundles. The python3-script is included in the repository under client-side/ipcc-downloader.\n",
    "\n",
    "Dumps.zip includes the downloaded IPCC carrier profiles and the ipcc_urls.txt which is the log of the URLS where IPCC bundles were downloaded from. \n"
   ]
  },
  {
   "cell_type": "code",
   "execution_count": null,
   "id": "1ca233e3",
   "metadata": {},
   "outputs": [],
   "source": [
    "# Filter the ipcc_urls.txt for URLS that include iPhone IPCC Bundles and store carrier names\n",
    "\n",
    "with open(APPLE_IPCC_URLS, 'r') as file:\n",
    "    lines = file.readlines()\n",
    "\n",
    "# Filter Providers with 'iphone' IPCCS (case insensitive)\n",
    "iphone_ipcc_carriers = sorted(list(set([line.split(\"/\")[-1].strip() for line in lines if 'iphone' in line.split(\"/\")[-1].lower()])),key=str.casefold)\n",
    "\n",
    "with open(APPLE_IPCC_CARRIERS_REPRODUCE,'w') as f_ipcc_carriers:\n",
    "    for entry in iphone_ipcc_carriers:\n",
    "        f_ipcc_carriers.write(entry+\"\\n\")"
   ]
  },
  {
   "cell_type": "code",
   "execution_count": null,
   "id": "a032fd55-808c-4919-99ea-97bab56e2d37",
   "metadata": {},
   "outputs": [],
   "source": [
    "# Perform the evaluation of the APPLE IPCC Bundles\n",
    "from extract_apple_ikev2_configuration_parameters import *\n",
    "\n",
    "evaluate_apple_ipccs(APPLE_FOLDER_DATA,APPLE_IPCC_CARRIERS_REPRODUCE,APPLE_IPPC_EVALUATION_RESULTS_REPRODUCE,APPLE_IPPC_UPDATE_TIMES_REPRODUCE)"
   ]
  },
  {
   "cell_type": "code",
   "execution_count": null,
   "id": "4bb6bfb3",
   "metadata": {},
   "outputs": [],
   "source": [
    "from evaluation.APPLE.count_apple_json import *\n",
    "\n",
    "apple_statistics=count_apple(APPLE_IPPC_EVALUATION_RESULTS_REPRODUCE)"
   ]
  },
  {
   "cell_type": "markdown",
   "id": "eef08e3b",
   "metadata": {},
   "source": [
    "### SAMSUNG\n",
    "\n"
   ]
  },
  {
   "cell_type": "code",
   "execution_count": null,
   "id": "12da1f1e",
   "metadata": {},
   "outputs": [],
   "source": [
    "from extract_samsung_ikev2_configuration_parameters import *\n",
    "\n",
    "evaluate_samsung_apn_file(SAMSUNG_APN_FILE,SAMSUNG_APN_EVALUATION_RESULTS_REPRODUCE)"
   ]
  },
  {
   "cell_type": "code",
   "execution_count": null,
   "id": "94fbbeb0",
   "metadata": {},
   "outputs": [],
   "source": [
    "from evaluation.SAMSUNG.count_samsung_json import *\n",
    "\n",
    "samsung_statistics=count_samsung_apn_file(SAMSUNG_APN_EVALUATION_RESULTS_REPRODUCE)"
   ]
  },
  {
   "cell_type": "markdown",
   "id": "d3e4c659",
   "metadata": {},
   "source": [
    "### Xiaomi \n",
    "\n",
    "MBN Files"
   ]
  },
  {
   "cell_type": "code",
   "execution_count": null,
   "id": "d6735586",
   "metadata": {},
   "outputs": [],
   "source": [
    "from extract_mbn_ikev2_configuration_parameters import *\n",
    "\n",
    "evaluate_mbn_files(XIAOMI_FOLDER,XAOMI_EVALUATION_RESULTS_REPRODUCE)"
   ]
  },
  {
   "cell_type": "code",
   "execution_count": null,
   "id": "f65bfb5a",
   "metadata": {},
   "outputs": [],
   "source": [
    "from evaluation.MBN.count_mbn_json import *\n",
    "\n",
    "\n",
    "xiaomi_statistics=count_mbn_results(XAOMI_EVALUATION_RESULTS_REPRODUCE)"
   ]
  },
  {
   "cell_type": "markdown",
   "id": "7d05b785",
   "metadata": {},
   "source": [
    "### Oppo\n",
    "\n",
    "MBN Files"
   ]
  },
  {
   "cell_type": "code",
   "execution_count": null,
   "id": "2bc95d2d",
   "metadata": {},
   "outputs": [],
   "source": [
    "from extract_mbn_ikev2_configuration_parameters import *\n",
    "\n",
    "evaluate_mbn_files(OPPO_FOLDER,OPPO_EVALUATION_RESULTS_REPRODUCE)"
   ]
  },
  {
   "cell_type": "code",
   "execution_count": null,
   "id": "4f3c3ca0",
   "metadata": {},
   "outputs": [],
   "source": [
    "from evaluation.MBN.count_mbn_json import *\n",
    "\n",
    "\n",
    "oppo_statistics=count_mbn_results(OPPO_EVALUATION_RESULTS_REPRODUCE)"
   ]
  },
  {
   "cell_type": "markdown",
   "id": "99911fa1",
   "metadata": {},
   "source": [
    "### Visualizations\n",
    "\n",
    "#### DH Groups\n",
    "\n"
   ]
  },
  {
   "cell_type": "code",
   "execution_count": null,
   "id": "e088a14f",
   "metadata": {},
   "outputs": [],
   "source": [
    "#Files \n",
    "DH_BARS_REPRODUCE=\"visualizations/dh_bars/ike_dh_groups_reproduce.pdf\"\n",
    "DEPRECATED_REPRODUCE=\"visualizations/deprecated/deprecated_bars_reproduce.pdf\"\n",
    "REKEY_REPRODUCE=\"visualizations/rekey/cdf_rekey_hours_reproduce.pdf\"\n"
   ]
  },
  {
   "cell_type": "code",
   "execution_count": null,
   "id": "9cad3a14",
   "metadata": {},
   "outputs": [],
   "source": [
    "#from visualizations.dh_bars.dh_bars import *\n",
    "ikev2_dh_group_data = {\n",
    "        'Apple': {\"dh_groups\":apple_statistics['parsed_ikev2_params']['ikev2_dh_group_list'],\"set\":apple_statistics['ikev2_params']['ikev2_dh_group_list']},\n",
    "        'Xiaomi': {\"dh_groups\":xiaomi_statistics['parsed_ikev2_params']['ikev2_dh_group_list'],\"set\":xiaomi_statistics['ikev2_params']['ikev2_dh_group_list']},\n",
    "        'Oppo':{\"dh_groups\":oppo_statistics['parsed_ikev2_params']['ikev2_dh_group_list'],\"set\":oppo_statistics['ikev2_params']['ikev2_dh_group_list']},\n",
    "        'Samsung': {\"dh_groups\":samsung_statistics['parsed_ikev2_params']['ikev2_dh_group_list'],\"set\":samsung_statistics['ikev2_params']['ikev2_dh_group_list']}\n",
    "    }\n",
    "ikev2_dh_group_data "
   ]
  },
  {
   "cell_type": "code",
   "execution_count": null,
   "id": "a0457230",
   "metadata": {},
   "outputs": [],
   "source": [
    "from visualizations.dh_bars.dh_bars import *\n",
    "\n",
    "visualize_dh_groups(ikev2_dh_group_data,DH_BARS_REPRODUCE)"
   ]
  },
  {
   "cell_type": "markdown",
   "id": "7ff97bb7",
   "metadata": {},
   "source": [
    "#### Deprecated Algorithms\n",
    "\n",
    "\n"
   ]
  },
  {
   "cell_type": "code",
   "execution_count": null,
   "id": "883dc83f",
   "metadata": {},
   "outputs": [],
   "source": [
    "from visualizations.deprecated.deprecated_bars import *\n",
    "\n",
    "deprecated_ike_parameters = {\n",
    "    \"Apple\":apple_statistics[\"deprecated\"],\n",
    "    \"Xiaomi\":xiaomi_statistics[\"deprecated\"],\n",
    "    \"Oppo\":oppo_statistics[\"deprecated\"],\n",
    "    \"Samsung\":samsung_statistics[\"deprecated\"]\n",
    "}\n",
    "\n",
    "deprecated_ike_parameters\n",
    "\n"
   ]
  },
  {
   "cell_type": "code",
   "execution_count": null,
   "id": "6f25bc15",
   "metadata": {},
   "outputs": [],
   "source": [
    "visualize_deprecated_bars(deprecated_ike_parameters,DEPRECATED_REPRODUCE)"
   ]
  },
  {
   "cell_type": "markdown",
   "id": "66095c46",
   "metadata": {},
   "source": [
    "#### CDF Rekey Timers"
   ]
  },
  {
   "cell_type": "code",
   "execution_count": null,
   "id": "3b4b8046",
   "metadata": {},
   "outputs": [],
   "source": [
    "from visualizations.rekey.cdf_rekey_hours import *\n",
    "\n",
    "rekey_dict = {\n",
    "    \"Apple\" : apple_statistics['parsed_ikev2_params']['ikev2_lifetime'],\n",
    "    \"Xiaomi\" : xiaomi_statistics['parsed_ikev2_params']['ikev2_sa_rekey_timer_soft_sec'],\n",
    "    \"Oppo\" : oppo_statistics['parsed_ikev2_params']['ikev2_sa_rekey_timer_soft_sec'],\n",
    "    \"Samsung\" : samsung_statistics['parsed_ikev2_params']['ikev2_lifetime']\n",
    "    \n",
    "}\n",
    "\n",
    "rekey_dict"
   ]
  },
  {
   "cell_type": "code",
   "execution_count": null,
   "id": "34947325",
   "metadata": {},
   "outputs": [],
   "source": [
    "rekey_cdf(rekey_dict,REKEY_REPRODUCE)"
   ]
  }
 ],
 "metadata": {
  "kernelspec": {
   "display_name": "Python 3 (ipykernel)",
   "language": "python",
   "name": "python3"
  },
  "language_info": {
   "codemirror_mode": {
    "name": "ipython",
    "version": 3
   },
   "file_extension": ".py",
   "mimetype": "text/x-python",
   "name": "python",
   "nbconvert_exporter": "python",
   "pygments_lexer": "ipython3",
   "version": "3.10.12"
  }
 },
 "nbformat": 4,
 "nbformat_minor": 5
}
